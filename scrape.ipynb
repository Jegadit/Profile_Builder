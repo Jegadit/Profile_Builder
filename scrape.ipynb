{
 "cells": [
  {
   "cell_type": "code",
   "execution_count": 1,
   "metadata": {},
   "outputs": [],
   "source": [
    "import requests\n",
    "from bs4 import BeautifulSoup\n",
    "import warnings\n",
    "warnings.filterwarnings(\"ignore\")"
   ]
  },
  {
   "cell_type": "code",
   "execution_count": 2,
   "metadata": {},
   "outputs": [],
   "source": [
    "img_list = []\n",
    "link_list = []\n",
    "name_list = []\n",
    "pos_list = []\n",
    "ri_list = []"
   ]
  },
  {
   "cell_type": "code",
   "execution_count": 3,
   "metadata": {},
   "outputs": [],
   "source": [
    "for i in range(1,11):\n",
    "\n",
    "    url = f'https://www.amrita.edu/faculty/page/{1}/?cmp=46'\n",
    "    response = requests.get(url,verify=False)\n",
    "    soup = BeautifulSoup(response.text, 'html.parser')\n",
    "\n",
    "    faculty_items = soup.find_all('div', class_='fc-item col-md-4 col-sm-6')\n",
    "\n",
    "    for item in faculty_items:\n",
    "        \n",
    "        image_url = item.find(\"div\", class_=\"fc-image\").img[\"data-src\"]\n",
    "        img_list.append(image_url)\n",
    "        \n",
    "        link_tag = item.find('div', class_='fc-image').find('a')\n",
    "        link = link_tag['href']\n",
    "        link_list.append(link)\n",
    "\n",
    "        name_tag = item.find('div', class_='fc-desc').find('a')\n",
    "        name = name_tag.text.strip()\n",
    "        name_list.append(name)\n",
    "        \n",
    "        position_elem = item.find('div', class_='fc-desc').find('p')\n",
    "        if position_elem:\n",
    "            position = position_elem.text.strip()\n",
    "            pos_list.append(position)\n",
    "        else:\n",
    "            pos_list.append('N/A')\n",
    "        # position = position.text.strip()\n",
    "        # pos_list.append(position)\n",
    "        \n",
    "\n",
    "        roi = requests.get(link, verify=False)\n",
    "        soup = BeautifulSoup(roi.content, \"html.parser\")\n",
    "        div = soup.find(\"div\", class_=\"fac-inner-meta\")\n",
    "        if div:\n",
    "            research_interest_tag = div.find(\"b\", text=\"Research Interest:\")\n",
    "            if research_interest_tag:\n",
    "                research_interest = research_interest_tag.next_sibling.strip()\n",
    "                ri_list.append(research_interest)\n",
    "            else:\n",
    "                ri_list.append(\"Research Interest not found.\")\n",
    "        else:\n",
    "            print(\"Faculty information not found.\")"
   ]
  },
  {
   "cell_type": "code",
   "execution_count": 4,
   "metadata": {},
   "outputs": [],
   "source": [
    "import pandas as pd\n",
    "\n",
    "df = pd.DataFrame()\n",
    "\n",
    "df['name'] = name_list\n",
    "df['image'] = img_list\n",
    "df['position'] = pos_list\n",
    "df['link'] = link_list\n",
    "df['roi'] = ri_list"
   ]
  },
  {
   "cell_type": "code",
   "execution_count": 5,
   "metadata": {},
   "outputs": [
    {
     "data": {
      "text/plain": [
       "(120, 5)"
      ]
     },
     "execution_count": 5,
     "metadata": {},
     "output_type": "execute_result"
    }
   ],
   "source": [
    "df.shape"
   ]
  },
  {
   "cell_type": "code",
   "execution_count": 6,
   "metadata": {},
   "outputs": [
    {
     "data": {
      "text/html": [
       "<div>\n",
       "<style scoped>\n",
       "    .dataframe tbody tr th:only-of-type {\n",
       "        vertical-align: middle;\n",
       "    }\n",
       "\n",
       "    .dataframe tbody tr th {\n",
       "        vertical-align: top;\n",
       "    }\n",
       "\n",
       "    .dataframe thead th {\n",
       "        text-align: right;\n",
       "    }\n",
       "</style>\n",
       "<table border=\"1\" class=\"dataframe\">\n",
       "  <thead>\n",
       "    <tr style=\"text-align: right;\">\n",
       "      <th></th>\n",
       "      <th>name</th>\n",
       "      <th>image</th>\n",
       "      <th>position</th>\n",
       "      <th>link</th>\n",
       "      <th>roi</th>\n",
       "    </tr>\n",
       "  </thead>\n",
       "  <tbody>\n",
       "    <tr>\n",
       "      <th>0</th>\n",
       "      <td>Dr. Sasangan Ramanathan</td>\n",
       "      <td>https://amrita.edu/wp-content/uploads/2014/05/...</td>\n",
       "      <td>Dean, School of Engineering, Faculty of Engine...</td>\n",
       "      <td>https://www.amrita.edu/faculty/sasangan/</td>\n",
       "      <td>Research Interest not found.</td>\n",
       "    </tr>\n",
       "    <tr>\n",
       "      <th>1</th>\n",
       "      <td>Dr. Soman K. P.</td>\n",
       "      <td>https://amrita.edu/wp-content/uploads/2014/05/...</td>\n",
       "      <td>N/A</td>\n",
       "      <td>https://www.amrita.edu/faculty/kp-soman/</td>\n",
       "      <td>High Performance Computing, Machine learning u...</td>\n",
       "    </tr>\n",
       "    <tr>\n",
       "      <th>2</th>\n",
       "      <td>Prof. Nava Subramaniam</td>\n",
       "      <td>https://amrita.edu/wp-content/uploads/2022/06/...</td>\n",
       "      <td>Dean, School of Business, Coimbatore</td>\n",
       "      <td>https://www.amrita.edu/faculty/nava-subramaniam/</td>\n",
       "      <td>Research Interest not found.</td>\n",
       "    </tr>\n",
       "    <tr>\n",
       "      <th>3</th>\n",
       "      <td>Dr. Sanjivi Arul</td>\n",
       "      <td>https://amrita.edu/wp-content/uploads/2014/02/...</td>\n",
       "      <td>Deputy Registrar, Amrita AHEAD</td>\n",
       "      <td>https://www.amrita.edu/faculty/dr-sanjivi-arul/</td>\n",
       "      <td>Modelling and Simulation, Surface Alloying, We...</td>\n",
       "    </tr>\n",
       "    <tr>\n",
       "      <th>4</th>\n",
       "      <td>Prof. Sudheesh Manalil</td>\n",
       "      <td>https://amrita.edu/wp-content/uploads/2021/10/...</td>\n",
       "      <td>Associate Dean, School of Agricultural Science...</td>\n",
       "      <td>https://www.amrita.edu/faculty/sudheeshmv/</td>\n",
       "      <td>Research Interest not found.</td>\n",
       "    </tr>\n",
       "  </tbody>\n",
       "</table>\n",
       "</div>"
      ],
      "text/plain": [
       "                      name                                              image  \\\n",
       "0  Dr. Sasangan Ramanathan  https://amrita.edu/wp-content/uploads/2014/05/...   \n",
       "1          Dr. Soman K. P.  https://amrita.edu/wp-content/uploads/2014/05/...   \n",
       "2   Prof. Nava Subramaniam  https://amrita.edu/wp-content/uploads/2022/06/...   \n",
       "3         Dr. Sanjivi Arul  https://amrita.edu/wp-content/uploads/2014/02/...   \n",
       "4   Prof. Sudheesh Manalil  https://amrita.edu/wp-content/uploads/2021/10/...   \n",
       "\n",
       "                                            position  \\\n",
       "0  Dean, School of Engineering, Faculty of Engine...   \n",
       "1                                                N/A   \n",
       "2               Dean, School of Business, Coimbatore   \n",
       "3                     Deputy Registrar, Amrita AHEAD   \n",
       "4  Associate Dean, School of Agricultural Science...   \n",
       "\n",
       "                                               link  \\\n",
       "0          https://www.amrita.edu/faculty/sasangan/   \n",
       "1          https://www.amrita.edu/faculty/kp-soman/   \n",
       "2  https://www.amrita.edu/faculty/nava-subramaniam/   \n",
       "3   https://www.amrita.edu/faculty/dr-sanjivi-arul/   \n",
       "4        https://www.amrita.edu/faculty/sudheeshmv/   \n",
       "\n",
       "                                                 roi  \n",
       "0                       Research Interest not found.  \n",
       "1  High Performance Computing, Machine learning u...  \n",
       "2                       Research Interest not found.  \n",
       "3  Modelling and Simulation, Surface Alloying, We...  \n",
       "4                       Research Interest not found.  "
      ]
     },
     "execution_count": 6,
     "metadata": {},
     "output_type": "execute_result"
    }
   ],
   "source": [
    "df.head()"
   ]
  },
  {
   "cell_type": "code",
   "execution_count": 11,
   "metadata": {},
   "outputs": [
    {
     "data": {
      "text/plain": [
       "145"
      ]
     },
     "execution_count": 11,
     "metadata": {},
     "output_type": "execute_result"
    }
   ],
   "source": [
    "leng = []\n",
    "for i in img_list:\n",
    "    leng.append(len(i))\n",
    "max(leng)"
   ]
  },
  {
   "cell_type": "code",
   "execution_count": 1,
   "metadata": {},
   "outputs": [],
   "source": [
    "import pymysql\n",
    "\n",
    "# Establish the connection\n",
    "cnx = pymysql.connect(\n",
    "    host='localhost',\n",
    "    user='root',\n",
    "    password='',\n",
    "    database='softareeng'\n",
    ")"
   ]
  },
  {
   "cell_type": "code",
   "execution_count": 13,
   "metadata": {},
   "outputs": [],
   "source": [
    "# cursor = cnx.cursor()\n",
    "\n",
    "# for i in range(len(name_list)):\n",
    "#     insert_query = \"INSERT INTO facultydetailsleveltwo (f_name, f_image, f_position, f_link, f_roi) VALUES (%s, %s, %s, %s, %s)\"\n",
    "#     cursor.execute(insert_query, (name_list[i], img_list[i], pos_list[i], link_list[i], ri_list[i]))\n",
    "\n",
    "# cnx.commit()\n",
    "# cursor.close()\n",
    "# cnx.close()\n"
   ]
  },
  {
   "cell_type": "markdown",
   "metadata": {},
   "source": [
    "---"
   ]
  },
  {
   "attachments": {},
   "cell_type": "markdown",
   "metadata": {},
   "source": [
    "# Scrape Faculty"
   ]
  },
  {
   "cell_type": "code",
   "execution_count": null,
   "metadata": {},
   "outputs": [],
   "source": [
    "import requests\n",
    "from bs4 import BeautifulSoup\n",
    "import warnings\n",
    "warnings.filterwarnings(\"ignore\")\n",
    "\n",
    "def scrapeFacultyData(url):\n",
    "    response = requests.get(url, verify=False)\n",
    "    soup = BeautifulSoup(response.text, \"html.parser\")\n",
    "\n",
    "    journal_div = soup.find(\"div\", class_=\"course-main-info\", id=\"journal-article\")\n",
    "    content_div = journal_div.find(\"div\", class_=\"course-part-content\")\n",
    "    h3_tags = content_div.find_all(\"a\")\n",
    "    ja = []\n",
    "    for h3 in h3_tags:\n",
    "        ja.append(h3.text.replace(\"                                                                        \",\"\").replace(\"                                                                    \", \"\").replace('\\n',''))\n",
    "\n",
    "    journal_div = soup.find(\"div\", class_=\"course-main-info\", id=\"conference-proceedings\")\n",
    "    content_div = journal_div.find(\"div\", class_=\"course-part-content\")\n",
    "    h3_tags = content_div.find_all(\"a\")\n",
    "    cp = []\n",
    "    for h3 in h3_tags:\n",
    "        cp.append(h3.text.replace(\"                                                                        \",\"\").replace(\"                                                                    \", \"\").replace('\\n',''))\n",
    "\n",
    "    journal_div = soup.find(\"div\", class_=\"course-main-info\", id=\"book-chapter\")\n",
    "    content_div = journal_div.find(\"div\", class_=\"course-part-content\")\n",
    "    h3_tags = content_div.find_all(\"a\")\n",
    "\n",
    "    bc = []\n",
    "    for h3 in h3_tags:\n",
    "        bc.append(h3.text.replace(\"                                                                        \",\"\").replace(\"                                                                    \", \"\").replace('\\n',''))\n",
    "\n",
    "    journal_div = soup.find(\"div\", class_=\"course-main-info\", id=\"patents\")\n",
    "    content_div = journal_div.find(\"div\", class_=\"course-part-content\")\n",
    "    h3_tags = content_div.find_all(\"a\")\n",
    "\n",
    "    p = []\n",
    "    for h3 in h3_tags:\n",
    "        p.append(h3.text.replace(\"                                                                        \",\"\").replace(\"                                                                    \", \"\").replace('\\n',''))\n",
    "\n",
    "    return ja, cp, bc, p\n",
    "\n",
    "scrapeFacultyData(\"https://www.amrita.edu/faculty/sasangan/\")"
   ]
  },
  {
   "cell_type": "markdown",
   "metadata": {},
   "source": [
    "---"
   ]
  },
  {
   "cell_type": "code",
   "execution_count": 6,
   "metadata": {},
   "outputs": [
    {
     "name": "stdout",
     "output_type": "stream",
     "text": [
      "eba0d1d0422e516ebb85795d5ee3686b71bfc75e5a96fdbd602cec9a2fd49c0c\n"
     ]
    }
   ],
   "source": [
    "import hashlib\n",
    "\n",
    "def hash_string(string):\n",
    "    hash_object = hashlib.sha256()\n",
    "    hash_object.update(string.encode('utf-8'))\n",
    "    return hash_object.hexdigest()\n",
    "\n",
    "if __name__ == '__main__':\n",
    "    string = \"weqewqewewdsa sdsa d sad sad sad sd asdsa d\"\n",
    "    hash_string = hash_string(string)\n",
    "    print(hash_string)"
   ]
  },
  {
   "cell_type": "code",
   "execution_count": 7,
   "metadata": {},
   "outputs": [
    {
     "data": {
      "text/plain": [
       "64"
      ]
     },
     "execution_count": 7,
     "metadata": {},
     "output_type": "execute_result"
    }
   ],
   "source": [
    "len('eba0d1d0422e516ebb85795d5ee3686b71bfc75e5a96fdbd602cec9a2fd49c0c')"
   ]
  },
  {
   "cell_type": "markdown",
   "metadata": {},
   "source": [
    "---"
   ]
  },
  {
   "cell_type": "code",
   "execution_count": 7,
   "metadata": {},
   "outputs": [
    {
     "name": "stdout",
     "output_type": "stream",
     "text": [
      "(('Dr. Sasangan Ramanathan', 'https://amrita.edu/wp-content/uploads/2014/05/Dr_Sasangan_Ramanathan_Dean_faculty_of_Engineering_Amrita_School_of_Engineering.jpg', 'Dean, School of Engineering, Faculty of Engineering (Bengaluru, Coimbatore & Chennai) | Professor, Chemical Engineering, School of Engineering, Coimba', 'https://www.amrita.edu/faculty/sasangan/'), ('Prof. Nava Subramaniam', 'https://amrita.edu/wp-content/uploads/2022/06/nava-subramaniam-dean-business.jpg', 'Dean, School of Business, Coimbatore', 'https://www.amrita.edu/faculty/nava-subramaniam/'), ('Prof. Sudheesh Manalil', 'https://amrita.edu/wp-content/uploads/2021/10/sudheeshmv-school-agricultural-sciences-coimbatore.jpg', 'Associate Dean, School of Agricultural Sciences, Coimbatore  | Principal, School of Agricultural Sciences, Coimbatore | Head - Research, School of Agr', 'https://www.amrita.edu/faculty/sudheeshmv/'), ('Air Cmde Satish Menon (Retd)', 'https://dt19wmazj2dns.cloudfront.net/wp-content/uploads/bfi_thumb/Photo-1-1000x667-1-y0sntjb5lyzzit3havu8zk.jpg', 'Director, Amrita Vishwa Vidyapeetham, Coimbatore campus', 'https://www.amrita.edu/faculty/air-cmde-satish-menon-retd/'), ('Dr. Udaya Shankar', 'https://amrita.edu/wp-content/uploads/2021/03/Photo-2-1000x667-1.jpg', 'Campus Director, School of Agricultural Sciences, Coimbatore', 'https://www.amrita.edu/faculty/n-udaya-shankar/'))\n"
     ]
    }
   ],
   "source": [
    "searchfltbroidb = cnx.cursor()\n",
    "searchfltbroidb.execute(\"select distinct f_name, f_image, f_position, f_link FROM facultydetailsleveltwo WHERE f_roi = %s\", (\"Research Interest not found.\"))\n",
    "searchfltbroiresult = searchfltbroidb.fetchall()\n",
    "print(searchfltbroiresult)"
   ]
  },
  {
   "cell_type": "code",
   "execution_count": 9,
   "metadata": {},
   "outputs": [
    {
     "name": "stdout",
     "output_type": "stream",
     "text": [
      "('Dr. Sasangan Ramanathan', 'https://amrita.edu/wp-content/uploads/2014/05/Dr_Sasangan_Ramanathan_Dean_faculty_of_Engineering_Amrita_School_of_Engineering.jpg', 'Dean, School of Engineering, Faculty of Engineering (Bengaluru, Coimbatore & Chennai) | Professor, Chemical Engineering, School of Engineering, Coimba', 'https://www.amrita.edu/faculty/sasangan/')\n",
      "('Prof. Nava Subramaniam', 'https://amrita.edu/wp-content/uploads/2022/06/nava-subramaniam-dean-business.jpg', 'Dean, School of Business, Coimbatore', 'https://www.amrita.edu/faculty/nava-subramaniam/')\n",
      "('Prof. Sudheesh Manalil', 'https://amrita.edu/wp-content/uploads/2021/10/sudheeshmv-school-agricultural-sciences-coimbatore.jpg', 'Associate Dean, School of Agricultural Sciences, Coimbatore  | Principal, School of Agricultural Sciences, Coimbatore | Head - Research, School of Agr', 'https://www.amrita.edu/faculty/sudheeshmv/')\n",
      "('Air Cmde Satish Menon (Retd)', 'https://dt19wmazj2dns.cloudfront.net/wp-content/uploads/bfi_thumb/Photo-1-1000x667-1-y0sntjb5lyzzit3havu8zk.jpg', 'Director, Amrita Vishwa Vidyapeetham, Coimbatore campus', 'https://www.amrita.edu/faculty/air-cmde-satish-menon-retd/')\n",
      "('Dr. Udaya Shankar', 'https://amrita.edu/wp-content/uploads/2021/03/Photo-2-1000x667-1.jpg', 'Campus Director, School of Agricultural Sciences, Coimbatore', 'https://www.amrita.edu/faculty/n-udaya-shankar/')\n"
     ]
    }
   ],
   "source": [
    "for i in searchfltbroiresult:\n",
    "    print(i)"
   ]
  },
  {
   "cell_type": "code",
   "execution_count": null,
   "metadata": {},
   "outputs": [],
   "source": []
  }
 ],
 "metadata": {
  "kernelspec": {
   "display_name": "base",
   "language": "python",
   "name": "python3"
  },
  "language_info": {
   "codemirror_mode": {
    "name": "ipython",
    "version": 3
   },
   "file_extension": ".py",
   "mimetype": "text/x-python",
   "name": "python",
   "nbconvert_exporter": "python",
   "pygments_lexer": "ipython3",
   "version": "3.8.8"
  },
  "orig_nbformat": 4
 },
 "nbformat": 4,
 "nbformat_minor": 2
}
